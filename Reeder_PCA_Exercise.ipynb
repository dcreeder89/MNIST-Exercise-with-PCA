{
  "nbformat": 4,
  "nbformat_minor": 0,
  "metadata": {
    "colab": {
      "provenance": [],
      "authorship_tag": "ABX9TyPpW2++bw3u+7zlPnEHhQa0",
      "include_colab_link": true
    },
    "kernelspec": {
      "name": "python3",
      "display_name": "Python 3"
    },
    "language_info": {
      "name": "python"
    }
  },
  "cells": [
    {
      "cell_type": "markdown",
      "metadata": {
        "id": "view-in-github",
        "colab_type": "text"
      },
      "source": [
        "<a href=\"https://colab.research.google.com/github/dcreeder89/MNIST-Exercise-with-PCA/blob/main/Reeder_PCA_Exercise.ipynb\" target=\"_parent\"><img src=\"https://colab.research.google.com/assets/colab-badge.svg\" alt=\"Open In Colab\"/></a>"
      ]
    },
    {
      "cell_type": "markdown",
      "source": [
        "# PCA Exercise\n",
        "- Christina Reeder\n",
        "- 31 Jan 2023"
      ],
      "metadata": {
        "id": "fSRME1NZGre_"
      }
    },
    {
      "cell_type": "markdown",
      "source": [
        "Your task is to perform PCA to speed up a classification algorithm on a high-dimensional dataset. You will fit a model on the original scaled data, and a different one on data after transformation using a PCA model. You will compare the computation time and the evaluation scores.\n",
        "\n",
        "We will use the [MNIST digits dataset](https://en.wikipedia.org/wiki/MNIST_database), which comes pre-installed in sklearn. This dataset has 28x28 pixel images of handwritten digits 0-9. Your task is to classify these to determine which digits they are.\n",
        "\n",
        "Use PCA to lower the dimensions in this dataset while retaining 95% of the variance. You can do this when instantiating the PCA by giving the `n_components=` argument a float between 0 and 1."
      ],
      "metadata": {
        "id": "rZLbIEobGwrE"
      }
    },
    {
      "cell_type": "code",
      "source": [
        "# import libraries\n",
        "import pandas as pd\n",
        "import numpy as np\n",
        "import matplotlib.pyplot as plt\n",
        "\n",
        "from sklearn.preprocessing import StandardScaler\n",
        "from sklearn.pipeline import make_pipeline\n",
        "from sklearn.decomposition import PCA\n",
        "from sklearn.neighbors import KNeighborsClassifier\n",
        "\n",
        "from sklearn.metrics import ConfusionMatrixDisplay, classification_report"
      ],
      "metadata": {
        "id": "muGxRiFtIW60"
      },
      "execution_count": 4,
      "outputs": []
    },
    {
      "cell_type": "markdown",
      "source": [
        "## 1. Load the Data"
      ],
      "metadata": {
        "id": "jOIHbIPrHAZ1"
      }
    },
    {
      "cell_type": "code",
      "source": [
        "# load dataset\n",
        "#from sklearn.datasets import fetch_openml\n",
        "#mnist = fetch_openml('minst_784')\n",
        "# view shape of the dataset\n",
        "#mnist.data.shape"
      ],
      "metadata": {
        "id": "6gpUbQjkHd6l"
      },
      "execution_count": 5,
      "outputs": []
    },
    {
      "cell_type": "markdown",
      "source": [
        "The dataset has shape (70000, 784), meaning we are working with 70,000 images with 784 dimensions!\n",
        "\n",
        "Note that you can access the X data using `mnist.data` and access the target using `mnist.target`.\n",
        "\n",
        "If you get an error using the above code, you can also load the data using:"
      ],
      "metadata": {
        "id": "V85pdkRHHdPN"
      }
    },
    {
      "cell_type": "code",
      "source": [
        "from keras.datasets import mnist\n",
        "# load data\n",
        "(X_train, y_train), (X_test, y_test) = mnist.load_data()\n",
        "# reshape data\n",
        "X_train = X_train.reshape(X_train.shape[0], -1)\n",
        "X_test = X_test.reshape(X_test.shape[0], -1)"
      ],
      "metadata": {
        "id": "Mjk_Vc9mHvCI"
      },
      "execution_count": 6,
      "outputs": []
    },
    {
      "cell_type": "markdown",
      "source": [
        "## 2. Prepare the Data"
      ],
      "metadata": {
        "id": "fdmIroYOHCwk"
      }
    },
    {
      "cell_type": "markdown",
      "source": [
        "Prepare the data for modeling. Scale and apply PCA to your data, while retaining 95% of the variance. Be sure not to leak information."
      ],
      "metadata": {
        "id": "gxvpiX3AHa5s"
      }
    },
    {
      "cell_type": "code",
      "source": [
        "# instantiate PCA\n",
        "pca = PCA(n_components=0.95, random_state=42)\n",
        "# instantiate scaler\n",
        "scaler = StandardScaler()\n",
        "# create transformer pipeline\n",
        "transformer = make_pipeline(scaler, pca)"
      ],
      "metadata": {
        "id": "QirLwvr_JTnq"
      },
      "execution_count": 14,
      "outputs": []
    },
    {
      "cell_type": "markdown",
      "source": [
        "## 3. Create 2 KNN models"
      ],
      "metadata": {
        "id": "vlu5PIE8HFh8"
      }
    },
    {
      "cell_type": "markdown",
      "source": [
        "a. One that that uses the PCA transformed data to predict which number each image shows.\n",
        "\n",
        "b. One that uses the original data, without the PCA transformation (but, remember you still need to scale the data!)"
      ],
      "metadata": {
        "id": "ZvmZTDBUHYrk"
      }
    },
    {
      "cell_type": "code",
      "source": [
        "# instantiate KNN model\n",
        "knn = KNeighborsClassifier()"
      ],
      "metadata": {
        "id": "KzQtQC9BJuSE"
      },
      "execution_count": 8,
      "outputs": []
    },
    {
      "cell_type": "markdown",
      "source": [
        "### PCA model"
      ],
      "metadata": {
        "id": "Rr2Rl-d_Jq11"
      }
    },
    {
      "cell_type": "code",
      "source": [
        "# create knn pipeline with pca transformer\n",
        "knn_pca_pipe = make_pipeline(transformer, knn)\n",
        "# fit knn/pca pipeline to training data\n",
        "knn_pca_pipe.fit(X_train, y_train)"
      ],
      "metadata": {
        "colab": {
          "base_uri": "https://localhost:8080/"
        },
        "id": "h8YhlajfJsm3",
        "outputId": "43aee6f1-6bbd-485c-e147-eb5f59debd61"
      },
      "execution_count": 15,
      "outputs": [
        {
          "output_type": "execute_result",
          "data": {
            "text/plain": [
              "Pipeline(steps=[('pipeline',\n",
              "                 Pipeline(steps=[('standardscaler', StandardScaler()),\n",
              "                                 ('pca',\n",
              "                                  PCA(n_components=0.95, random_state=42))])),\n",
              "                ('kneighborsclassifier', KNeighborsClassifier())])"
            ]
          },
          "metadata": {},
          "execution_count": 15
        }
      ]
    },
    {
      "cell_type": "markdown",
      "source": [
        "### Non-PCA model"
      ],
      "metadata": {
        "id": "TDpyCQmoKEtk"
      }
    },
    {
      "cell_type": "code",
      "source": [
        "# create knn pipeline without the pca transformer, only the scaler\n",
        "knn_pipe = make_pipeline(scaler, knn)\n",
        "# fit knn pipeline to training data\n",
        "knn_pipe.fit(X_train, y_train)"
      ],
      "metadata": {
        "colab": {
          "base_uri": "https://localhost:8080/"
        },
        "id": "C4HZ1CgoKHuu",
        "outputId": "4bbc7024-5c06-42f0-805f-e917f7eb4ac8"
      },
      "execution_count": 10,
      "outputs": [
        {
          "output_type": "execute_result",
          "data": {
            "text/plain": [
              "Pipeline(steps=[('standardscaler', StandardScaler()),\n",
              "                ('kneighborsclassifier', KNeighborsClassifier())])"
            ]
          },
          "metadata": {},
          "execution_count": 10
        }
      ]
    },
    {
      "cell_type": "markdown",
      "source": [
        "## 4. Evaluate and compare models"
      ],
      "metadata": {
        "id": "KaSOc2FWHJTc"
      }
    },
    {
      "cell_type": "markdown",
      "source": [
        "Use separate cells to make predictions using each model. Include the cell magic command: `%%time` at the top of your cells when making predictions to see which model can create predictions faster, the one trained on PCA data or the one trained on non-PCA data. Evaluate both models using multiple appropriate metrics.\n",
        "\n",
        "'%%time' will output under the cell a count of how long it takes the code in that cell to run."
      ],
      "metadata": {
        "id": "4lhYPUh-HVEs"
      }
    },
    {
      "cell_type": "markdown",
      "source": [
        "### PCA model"
      ],
      "metadata": {
        "id": "7aCg85wBOgyU"
      }
    },
    {
      "cell_type": "code",
      "source": [
        "%%time\n",
        "preds_pca = knn_pca_pipe.predict(X_test)"
      ],
      "metadata": {
        "colab": {
          "base_uri": "https://localhost:8080/"
        },
        "id": "ahfSo9wnKgAS",
        "outputId": "7215e5cb-22e9-4dee-f951-c85801d40b63"
      },
      "execution_count": 16,
      "outputs": [
        {
          "output_type": "stream",
          "name": "stdout",
          "text": [
            "CPU times: user 37.6 s, sys: 2.3 s, total: 39.9 s\n",
            "Wall time: 27 s\n"
          ]
        }
      ]
    },
    {
      "cell_type": "code",
      "source": [
        "# display model metrics and confusion matrix for PCA model\n",
        "print(classification_report(y_test, preds_pca))\n",
        "\n",
        "ConfusionMatrixDisplay.from_predictions(y_test, preds_pca, cmap='Blues')"
      ],
      "metadata": {
        "colab": {
          "base_uri": "https://localhost:8080/",
          "height": 611
        },
        "id": "NC9wAGIPOZ7M",
        "outputId": "e3b4338b-277a-489d-cd47-73c7c0bfb552"
      },
      "execution_count": 20,
      "outputs": [
        {
          "output_type": "stream",
          "name": "stdout",
          "text": [
            "              precision    recall  f1-score   support\n",
            "\n",
            "           0       0.95      0.99      0.97       980\n",
            "           1       0.96      0.99      0.98      1135\n",
            "           2       0.96      0.94      0.95      1032\n",
            "           3       0.94      0.96      0.95      1010\n",
            "           4       0.95      0.94      0.95       982\n",
            "           5       0.94      0.93      0.93       892\n",
            "           6       0.96      0.97      0.97       958\n",
            "           7       0.94      0.93      0.93      1028\n",
            "           8       0.96      0.91      0.93       974\n",
            "           9       0.93      0.92      0.92      1009\n",
            "\n",
            "    accuracy                           0.95     10000\n",
            "   macro avg       0.95      0.95      0.95     10000\n",
            "weighted avg       0.95      0.95      0.95     10000\n",
            "\n"
          ]
        },
        {
          "output_type": "execute_result",
          "data": {
            "text/plain": [
              "<sklearn.metrics._plot.confusion_matrix.ConfusionMatrixDisplay at 0x7fbf93528a60>"
            ]
          },
          "metadata": {},
          "execution_count": 20
        },
        {
          "output_type": "display_data",
          "data": {
            "text/plain": [
              "<Figure size 432x288 with 2 Axes>"
            ],
            "image/png": "[encoded data removed]"
          },
          "metadata": {
            "needs_background": "light"
          }
        }
      ]
    },
    {
      "cell_type": "markdown",
      "source": [
        "### Non-PCA model"
      ],
      "metadata": {
        "id": "fHaec6-ZOins"
      }
    },
    {
      "cell_type": "code",
      "source": [
        "%%time\n",
        "preds_no_pca = knn_pipe.predict(X_test)"
      ],
      "metadata": {
        "colab": {
          "base_uri": "https://localhost:8080/"
        },
        "id": "v2VAXAl8M4As",
        "outputId": "49aff44f-68b3-4a15-e146-b29258c73341"
      },
      "execution_count": 13,
      "outputs": [
        {
          "output_type": "stream",
          "name": "stdout",
          "text": [
            "CPU times: user 1min 13s, sys: 3.17 s, total: 1min 16s\n",
            "Wall time: 49.7 s\n"
          ]
        }
      ]
    },
    {
      "cell_type": "code",
      "source": [
        "print(classification_report(y_test, preds_no_pca))\n",
        "\n",
        "ConfusionMatrixDisplay.from_predictions(y_test, preds_no_pca, cmap='Blues')"
      ],
      "metadata": {
        "colab": {
          "base_uri": "https://localhost:8080/",
          "height": 611
        },
        "id": "tnp_kCjfNkXG",
        "outputId": "a52dfa28-4e31-41de-a732-0a61c5fff356"
      },
      "execution_count": 21,
      "outputs": [
        {
          "output_type": "stream",
          "name": "stdout",
          "text": [
            "              precision    recall  f1-score   support\n",
            "\n",
            "           0       0.95      0.98      0.97       980\n",
            "           1       0.96      0.99      0.97      1135\n",
            "           2       0.96      0.93      0.94      1032\n",
            "           3       0.92      0.95      0.94      1010\n",
            "           4       0.94      0.94      0.94       982\n",
            "           5       0.93      0.92      0.93       892\n",
            "           6       0.96      0.97      0.97       958\n",
            "           7       0.94      0.92      0.93      1028\n",
            "           8       0.96      0.90      0.93       974\n",
            "           9       0.92      0.92      0.92      1009\n",
            "\n",
            "    accuracy                           0.94     10000\n",
            "   macro avg       0.94      0.94      0.94     10000\n",
            "weighted avg       0.94      0.94      0.94     10000\n",
            "\n"
          ]
        },
        {
          "output_type": "execute_result",
          "data": {
            "text/plain": [
              "<sklearn.metrics._plot.confusion_matrix.ConfusionMatrixDisplay at 0x7fbf932272b0>"
            ]
          },
          "metadata": {},
          "execution_count": 21
        },
        {
          "output_type": "display_data",
          "data": {
            "text/plain": [
              "<Figure size 432x288 with 2 Axes>"
            ],
            "image/png": "[encoded data removed]"
          },
          "metadata": {
            "needs_background": "light"
          }
        }
      ]
    },
    {
      "cell_type": "markdown",
      "source": [
        "## 5. Answer Questions"
      ],
      "metadata": {
        "id": "3cemNorhHL8E"
      }
    },
    {
      "cell_type": "markdown",
      "source": [
        "### a. Which model performed the best on the test set?"
      ],
      "metadata": {
        "id": "pxnQT3-DHOt8"
      }
    },
    {
      "cell_type": "markdown",
      "source": [
        "The model with the PCA had a higher overall accuracy of 95% compared to the model without PCA whose accuracy score was 94%. This means that the model with PCA was overall better at predicting the handwritten numbers in this model. "
      ],
      "metadata": {
        "id": "u3aofOsEO-UM"
      }
    },
    {
      "cell_type": "markdown",
      "source": [
        "### b. Which model was the fastest at making predictions?"
      ],
      "metadata": {
        "id": "NQrSJkXNHQpc"
      }
    },
    {
      "cell_type": "markdown",
      "source": [
        "The model that utilized PCA was faster at making predictions on the test set. The PCA model was 36.1 seconds faster in the CPU times and 22.7 seconds faster in the Wall times. "
      ],
      "metadata": {
        "id": "7uq-kmHUNrPc"
      }
    },
    {
      "cell_type": "code",
      "source": [
        "# calculate CPU times differences\n",
        "60+16 - 39.9"
      ],
      "metadata": {
        "colab": {
          "base_uri": "https://localhost:8080/"
        },
        "id": "FVLv1-glNx1c",
        "outputId": "43f6467e-27f3-4680-fbfa-5e53dd23f957"
      },
      "execution_count": 18,
      "outputs": [
        {
          "output_type": "execute_result",
          "data": {
            "text/plain": [
              "36.1"
            ]
          },
          "metadata": {},
          "execution_count": 18
        }
      ]
    },
    {
      "cell_type": "code",
      "source": [
        "# calculate Wall time difference\n",
        "49.7 - 27"
      ],
      "metadata": {
        "colab": {
          "base_uri": "https://localhost:8080/"
        },
        "id": "4u8dHh9uN-bx",
        "outputId": "b82fe150-28e9-405c-b4aa-bf6b59520a15"
      },
      "execution_count": 19,
      "outputs": [
        {
          "output_type": "execute_result",
          "data": {
            "text/plain": [
              "22.700000000000003"
            ]
          },
          "metadata": {},
          "execution_count": 19
        }
      ]
    }
  ]
}